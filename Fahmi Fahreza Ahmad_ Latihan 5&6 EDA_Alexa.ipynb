{
 "cells": [
  {
   "cell_type": "markdown",
   "id": "4094d503",
   "metadata": {},
   "source": [
    "Tentukan apakah kejadian dibawah ini no error, false positive atau false negative :\n",
    "\n",
    "a. Pencuri ditangkap dan dihukum\n",
    "\n",
    "Jika pencuri memang benar melakukan tindakan pencurian dan kemudian ditangkap dan dihukum, maka kejadian ini NO ERROR.\n",
    "\n",
    "b. Menghilangkan ATK teman namun tidak dikembalikan dan tidak ketahuan\n",
    "\n",
    "Jika seseorang benar-benar telah mengambil ATK teman dan tidak mengembalikannya, namun tidak ketahuan atau tidak terbukti, maka kejadian ini FALSE NEGATIVE.\n",
    "\n",
    "c. Sudah membayar makanan namun dituduh belum\n",
    "\n",
    "Jika seseorang memang sudah membayar makanan dan dituduh belum membayar, maka kejadian ini FALSE POSITIVE.\n",
    "\n",
    "d. Dinyatakan sakit tipes namun sebenarnya demam berdarah\n",
    "\n",
    "Jika seseorang sebenarnya sakit demam berdarah dan didiagnosis sebagai sakit tipes, maka kejadian ini FALSE POSITIVE."
   ]
  },
  {
   "cell_type": "markdown",
   "id": "f88770a9",
   "metadata": {},
   "source": [
    "#menghitung nilai Z untuk masing-masing dari kombinasi:\n",
    "\n",
    "Z(HH) = (30 - 50) / 5 = -4\n",
    "Z(HT/TH) = (58 - 50) / 5 = 1.6\n",
    "Z(TT) = (12 - 50) / 5 = -7.6\n",
    "\n",
    "#nilai Z untuk masing-masing kombinasi yang ada, yaitu:\n",
    "\n",
    "Z(HH) = -4\n",
    "Z(HT/TH) = 1.6\n",
    "Z(TT) = -7.6"
   ]
  },
  {
   "cell_type": "code",
   "execution_count": 10,
   "id": "4f6710cf",
   "metadata": {},
   "outputs": [
    {
     "name": "stdout",
     "output_type": "stream",
     "text": [
      "      Age  age_median  age_modus\n",
      "0    22.0        22.0       22.0\n",
      "1    38.0        38.0       38.0\n",
      "2    26.0        26.0       26.0\n",
      "3    35.0        35.0       35.0\n",
      "4    35.0        35.0       35.0\n",
      "..    ...         ...        ...\n",
      "886  27.0        27.0       27.0\n",
      "887  19.0        19.0       19.0\n",
      "888   NaN        28.0       24.0\n",
      "889  26.0        26.0       26.0\n",
      "890  32.0        32.0       32.0\n",
      "\n",
      "[891 rows x 3 columns]\n"
     ]
    }
   ],
   "source": [
    "import pandas as pd\n",
    "\n",
    "titanic = pd.read_csv('titanic_data.csv')\n",
    "\n",
    "age_median = titanic['Age'].median()\n",
    "age_modus = titanic['Age'].mode()[0]\n",
    "\n",
    "titanic['age_median'] = titanic['Age'].fillna(age_median)\n",
    "titanic['age_modus'] = titanic['Age'].fillna(age_modus)\n",
    "\n",
    "print(titanic[['Age', 'age_median', 'age_modus']])\n"
   ]
  }
 ],
 "metadata": {
  "kernelspec": {
   "display_name": "Python 3",
   "language": "python",
   "name": "python3"
  },
  "language_info": {
   "codemirror_mode": {
    "name": "ipython",
    "version": 3
   },
   "file_extension": ".py",
   "mimetype": "text/x-python",
   "name": "python",
   "nbconvert_exporter": "python",
   "pygments_lexer": "ipython3",
   "version": "3.8.8"
  }
 },
 "nbformat": 4,
 "nbformat_minor": 5
}
