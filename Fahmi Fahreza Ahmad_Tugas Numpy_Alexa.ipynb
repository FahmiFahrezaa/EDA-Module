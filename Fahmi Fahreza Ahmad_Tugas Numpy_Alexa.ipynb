{
 "cells": [
  {
   "cell_type": "code",
   "execution_count": 2,
   "id": "86ce24fe",
   "metadata": {},
   "outputs": [
    {
     "name": "stdout",
     "output_type": "stream",
     "text": [
      "[25.40801147 35.6603975  44.17391888 37.04842046 43.0558743  17.49055817\n",
      " 23.98470342  8.31439586 41.06130031 25.23290092]\n"
     ]
    }
   ],
   "source": [
    "#Buatlah program Numpy dimana didapatkan vektor dengan panjang 10 dan angkanya menyebar merata antara 5 sampai 50\n",
    "import numpy as np\n",
    "numbers = np.random.rand(10)\n",
    "hasil = 5 + (numbers * (50 - 5))\n",
    "print(hasil)"
   ]
  },
  {
   "cell_type": "code",
   "execution_count": 7,
   "id": "95396398",
   "metadata": {},
   "outputs": [
    {
     "name": "stdout",
     "output_type": "stream",
     "text": [
      "[[1. 0. 0.]\n",
      " [0. 1. 0.]\n",
      " [0. 0. 1.]]\n"
     ]
    }
   ],
   "source": [
    "#Buatlah matriks identitas 3x3 dimana nilai diagonal = 1, sisanya 0\n",
    "import numpy as np\n",
    "identity_matriks = np.identity(3)\n",
    "print(identity_matriks)\n"
   ]
  },
  {
   "cell_type": "code",
   "execution_count": 8,
   "id": "3676a4d5",
   "metadata": {},
   "outputs": [
    {
     "name": "stdout",
     "output_type": "stream",
     "text": [
      "Array x:  [[23 14 30 24 18]]\n",
      "Rata-rata:  21.8\n",
      "Variansi:  29.76\n",
      "Standar deviasi:  5.455272678794342\n"
     ]
    }
   ],
   "source": [
    "#Hitunglah rata rata, variansi dan standar deviasi dari x = np.random.randint(10,31, size = (1,5)\n",
    "import numpy as np\n",
    "\n",
    "x = np.random.randint(10, 31, size=(1, 5))\n",
    "mean = np.mean(x)\n",
    "variance = np.var(x)\n",
    "\n",
    "std_deviation = np.std(x)\n",
    "\n",
    "print(\"Array x: \", x)\n",
    "print(\"Rata-rata: \", mean)\n",
    "print(\"Variansi: \", variance)\n",
    "print(\"Standar deviasi: \", std_deviation)\n"
   ]
  },
  {
   "cell_type": "code",
   "execution_count": 9,
   "id": "c85600de",
   "metadata": {},
   "outputs": [
    {
     "name": "stdout",
     "output_type": "stream",
     "text": [
      "Rata-rata array 1:  3.5\n",
      "Rata-rata array 2:  0.5\n"
     ]
    }
   ],
   "source": [
    "#Hitunglah nilai rata rata dari 2 array numpy dimana arr1 = np.array([3,4]) dan arr2 = np.array([1,0]\n",
    "import numpy as np\n",
    "\n",
    "arr1 = np.array([3, 4])\n",
    "arr2 = np.array([1, 0])\n",
    "\n",
    "mean_arr1 = np.mean(arr1)\n",
    "mean_arr2 = np.mean(arr2)\n",
    "\n",
    "print(\"Rata-rata array 1: \", mean_arr1)\n",
    "print(\"Rata-rata array 2: \", mean_arr2)\n"
   ]
  },
  {
   "cell_type": "code",
   "execution_count": 10,
   "id": "7d2e200e",
   "metadata": {},
   "outputs": [
    {
     "name": "stdout",
     "output_type": "stream",
     "text": [
      "Vektor:  [25 35 44 37 43 17 23  8 41 25]\n",
      "Akar dari vektor:  [5.         5.91607978 6.63324958 6.08276253 6.55743852 4.12310563\n",
      " 4.79583152 2.82842712 6.40312424 5.        ]\n"
     ]
    }
   ],
   "source": [
    "#Hitunglah akar pada vektor yang dihasilkan dari pertanyaan nomor 1\n",
    "import numpy as np\n",
    "\n",
    "vector = np.array([25, 35, 44, 37, 43, 17, 23, 8, 41, 25])\n",
    "sqrt_vector = np.sqrt(vector)\n",
    "\n",
    "print(\"Vektor: \", vector)\n",
    "print(\"Akar dari vektor: \", sqrt_vector)\n"
   ]
  },
  {
   "cell_type": "code",
   "execution_count": null,
   "id": "ca7b73ce",
   "metadata": {},
   "outputs": [],
   "source": []
  }
 ],
 "metadata": {
  "kernelspec": {
   "display_name": "Python 3",
   "language": "python",
   "name": "python3"
  },
  "language_info": {
   "codemirror_mode": {
    "name": "ipython",
    "version": 3
   },
   "file_extension": ".py",
   "mimetype": "text/x-python",
   "name": "python",
   "nbconvert_exporter": "python",
   "pygments_lexer": "ipython3",
   "version": "3.8.8"
  }
 },
 "nbformat": 4,
 "nbformat_minor": 5
}
